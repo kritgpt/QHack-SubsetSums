{
 "cells": [
  {
   "attachments": {},
   "cell_type": "markdown",
   "metadata": {},
   "source": [
    "# Quantum computing today!: Implementing a recent scientific paper.\n",
    "### Classical and Quantum Algorithms for Variants of Subset-Sum via Dynamic Programming"
   ]
  },
  {
   "cell_type": "code",
   "execution_count": null,
   "metadata": {},
   "outputs": [],
   "source": [
    "import qiskit\n",
    "import multiprocessing\n",
    "import time"
   ]
  },
  {
   "attachments": {},
   "cell_type": "markdown",
   "metadata": {},
   "source": [
    "## Shifted-Sums: \n",
    "Given a multiset ${a1, . . . , an}$ of positive integers and an integer $0 ≤ s < \\sum \\limits _{i=1} ^{n} a_1$ , find two distinct subsets $S1, S2 ⊆ [n]$ such that $ \\sum \\limits _{i∈S1}  ai = s +  \\sum \\limits _{i∈S2} ai $"
   ]
  },
  {
   "cell_type": "code",
   "execution_count": 1,
   "metadata": {},
   "outputs": [],
   "source": [
    "a = []\n",
    "s = 0\n",
    "l = 0.5"
   ]
  },
  {
   "cell_type": "code",
   "execution_count": 2,
   "metadata": {},
   "outputs": [],
   "source": [
    "''' 1 Set b = (1 + ℓ)/4 if ℓ ≤ 3/5 and b = 2/5 if ℓ > 3/5'''\n",
    "if l<= 3/5:\n",
    "    b = (1 + l)/4\n",
    "else:\n",
    "    b = 2/5"
   ]
  },
  {
   "cell_type": "code",
   "execution_count": null,
   "metadata": {},
   "outputs": [],
   "source": [
    "def searchFn():\n",
    "    return"
   ]
  },
  {
   "cell_type": "code",
   "execution_count": 3,
   "metadata": {},
   "outputs": [
    {
     "data": {
      "text/plain": [
       "' 2 Run the quantum search algorithm (Fact 2.5) over the set of pairs (S1, S2) ∈ P([n])2,\\nwhere a pair is marked if Σ(S1) = Σ(S2) + s and S1 ̸ = S2. Stop it and proceed to step 3\\nif the running time exceeds eO(2bn/2), otherwise output the pair it found within the\\nallotted time '"
      ]
     },
     "execution_count": 3,
     "metadata": {},
     "output_type": "execute_result"
    }
   ],
   "source": [
    "''' 2 Run the quantum search algorithm over the set of pairs (S1, S2) ∈ P([n])2,\n",
    "where a pair is marked if Σ(S1) = Σ(S2) + s and S1 ̸ = S2. Stop it and proceed to step 3\n",
    "if the running time exceeds eO(2bn/2), otherwise output the pair it found within the\n",
    "allotted time '''\n",
    "# Start foo as a process\n",
    "p = multiprocessing.Process(target=searchFn, name=\"searchFn\", args=(10,))\n",
    "p.start()\n",
    "\n",
    "# Wait 10 seconds for foo\n",
    "time.sleep(10)\n",
    "\n",
    "# Terminate foo\n",
    "p.terminate()\n",
    "\n",
    "# Cleanup\n",
    "p.join()"
   ]
  },
  {
   "cell_type": "code",
   "execution_count": null,
   "metadata": {},
   "outputs": [],
   "source": [
    "'''3 If l > 3/5 then run variable-time amplitude amplification (Fact 2.6) on steps 4-6,\n",
    "otherwise run them once:'''"
   ]
  },
  {
   "cell_type": "code",
   "execution_count": null,
   "metadata": {},
   "outputs": [],
   "source": [
    "'''4 Choose a random prime p ∈ [2bn . . 2bn+1] and a random integer k ∈ [0 . . p - 1].'''"
   ]
  },
  {
   "cell_type": "code",
   "execution_count": null,
   "metadata": {},
   "outputs": [],
   "source": [
    "'''5 Construct the table tp[i, j] for i = 0, . . . , n and j = 0, . . . , p - 1 (see Section 3)'''"
   ]
  },
  {
   "cell_type": "code",
   "execution_count": null,
   "metadata": {},
   "outputs": [],
   "source": [
    "'''6 Run the quantum pair finding algorithm (Theorem 2.8) to find if there exist two sets\n",
    "S1 ∈ Tp,k and S2 ∈ Tp,(k-s) mod p such that Σ(S1) = Σ(S2) + s and S1 ̸ = S2. If so,\n",
    "output the pair (S1, S2) it found'''"
   ]
  }
 ],
 "metadata": {
  "kernelspec": {
   "display_name": "Python 3.10.8 64-bit",
   "language": "python",
   "name": "python3"
  },
  "language_info": {
   "codemirror_mode": {
    "name": "ipython",
    "version": 3
   },
   "file_extension": ".py",
   "mimetype": "text/x-python",
   "name": "python",
   "nbconvert_exporter": "python",
   "pygments_lexer": "ipython3",
   "version": "3.10.8"
  },
  "orig_nbformat": 4,
  "vscode": {
   "interpreter": {
    "hash": "e7370f93d1d0cde622a1f8e1c04877d8463912d04d973331ad4851f04de6915a"
   }
  }
 },
 "nbformat": 4,
 "nbformat_minor": 2
}
